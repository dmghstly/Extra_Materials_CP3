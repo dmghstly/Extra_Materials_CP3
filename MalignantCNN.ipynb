{
  "nbformat": 4,
  "nbformat_minor": 0,
  "metadata": {
    "colab": {
      "name": "MalignantCNN.ipynb",
      "provenance": [],
      "collapsed_sections": []
    },
    "kernelspec": {
      "name": "python3",
      "display_name": "Python 3"
    },
    "language_info": {
      "name": "python"
    }
  },
  "cells": [
    {
      "cell_type": "markdown",
      "source": [
        "Создание выборок. Обучающей(70 %), валидационной (15 %) и тестовой (15 %)."
      ],
      "metadata": {
        "id": "NiMCr3nOGmvQ"
      }
    },
    {
      "cell_type": "code",
      "execution_count": null,
      "metadata": {
        "id": "EJ7Yc_18C22d"
      },
      "outputs": [],
      "source": [
        "import numpy as np\n",
        "import tensorflow as tf\n",
        "from tensorflow import keras\n",
        "import tensorflow_datasets as tfds\n",
        "from keras.models import Sequential\n",
        "from keras.layers import Conv2D, MaxPooling2D\n",
        "from keras.layers import Activation, Dropout, Flatten, Dense"
      ]
    },
    {
      "cell_type": "code",
      "source": [
        "data_dir = '/content/drive/MyDrive/changed_data'\n",
        "\n",
        "train_dataset = keras.preprocessing.image_dataset_from_directory(\n",
        "    data_dir, subset='training', seed=42, validation_split=0.3, batch_size=100, image_size=(128, 128), shuffle=True\n",
        ")"
      ],
      "metadata": {
        "colab": {
          "base_uri": "https://localhost:8080/"
        },
        "id": "iBGlinfhDDRN",
        "outputId": "09786839-eb9d-4e38-94dc-1aeb4f1eb6e6"
      },
      "execution_count": null,
      "outputs": [
        {
          "output_type": "stream",
          "name": "stdout",
          "text": [
            "Found 17136 files belonging to 2 classes.\n",
            "Using 11996 files for training.\n"
          ]
        }
      ]
    },
    {
      "cell_type": "code",
      "source": [
        "val_dataset = keras.preprocessing.image_dataset_from_directory(\n",
        "    data_dir, subset='validation', seed=42, validation_split=0.3, batch_size=100, image_size=(128, 128), shuffle=True\n",
        ")"
      ],
      "metadata": {
        "colab": {
          "base_uri": "https://localhost:8080/"
        },
        "id": "Cn6f-iXqDD08",
        "outputId": "2dabccaa-e58a-41c9-8021-1c7d9bcc6767"
      },
      "execution_count": null,
      "outputs": [
        {
          "output_type": "stream",
          "name": "stdout",
          "text": [
            "Found 17136 files belonging to 2 classes.\n",
            "Using 5140 files for validation.\n"
          ]
        }
      ]
    },
    {
      "cell_type": "code",
      "source": [
        "test_dataset = val_dataset.take(2570) \n",
        "val_dataset = val_dataset.skip(2570)"
      ],
      "metadata": {
        "id": "MJ_61-8qDHi_"
      },
      "execution_count": null,
      "outputs": []
    },
    {
      "cell_type": "code",
      "source": [
        "input_shape = (128, 128, 3)\n",
        "num_classes = 2"
      ],
      "metadata": {
        "id": "7lp_fHlTDJOK"
      },
      "execution_count": null,
      "outputs": []
    },
    {
      "cell_type": "markdown",
      "source": [
        "Гиперпараметры."
      ],
      "metadata": {
        "id": "PZOE2hymHbq7"
      }
    },
    {
      "cell_type": "code",
      "source": [
        "# Количество эпох\n",
        "num_epochs = 20\n",
        "# В одном пакете будет\n",
        "batch_size = 100"
      ],
      "metadata": {
        "id": "_ghBxEQLHXp3"
      },
      "execution_count": null,
      "outputs": []
    },
    {
      "cell_type": "markdown",
      "source": [
        "Создание и обучение CNN."
      ],
      "metadata": {
        "id": "LbySn1roKJm9"
      }
    },
    {
      "cell_type": "code",
      "source": [
        "def run_experiment():\n",
        "  # Создание архитектуры\n",
        "  model = Sequential()\n",
        "  model.add(Conv2D(64, (3, 3), input_shape=input_shape))\n",
        "  model.add(Activation('relu'))\n",
        "  model.add(MaxPooling2D(pool_size=(2, 2)))\n",
        "  model.add(Conv2D(64, (3, 3)))\n",
        "  model.add(Activation('relu'))\n",
        "  model.add(MaxPooling2D(pool_size=(2, 2)))\n",
        "  model.add(Conv2D(32, (3, 3)))\n",
        "  model.add(Activation('relu'))\n",
        "  model.add(MaxPooling2D(pool_size=(2, 2)))\n",
        "  model.add(Conv2D(32, (3, 3)))\n",
        "  model.add(Activation('relu'))\n",
        "  model.add(MaxPooling2D(pool_size=(2, 2)))\n",
        "  model.add(Flatten())\n",
        "  model.add(Dense(128))\n",
        "  model.add(Activation('relu'))\n",
        "  model.add(Dense(128))\n",
        "  model.add(Activation('relu'))\n",
        "  model.add(Dropout(0.5))\n",
        "  model.add(Dense(1))\n",
        "  model.add(Activation('sigmoid'))\n",
        "\n",
        "  # Компиляция\n",
        "  model.compile(\n",
        "      loss='binary_crossentropy',\n",
        "      optimizer='adam',\n",
        "      metrics=['accuracy'])\n",
        "  \n",
        "  # Сохранение моделей\n",
        "  checkpoint_filepath = \"/content/drive/MyDrive/NN_models/CNN_model\"\n",
        "  checkpoint_callback = keras.callbacks.ModelCheckpoint(\n",
        "      checkpoint_filepath,\n",
        "      monitor='accuracy',\n",
        "      save_best_only=True)\n",
        "  \n",
        "  # Обучение\n",
        "  history = model.fit(\n",
        "        train_dataset,\n",
        "        batch_size=batch_size,\n",
        "        epochs=num_epochs,\n",
        "        validation_data=val_dataset,\n",
        "        callbacks=[checkpoint_callback])\n",
        "  \n",
        "  model.load_weights(checkpoint_filepath)\n",
        "  _, accuracy = model.evaluate(test_dataset)\n",
        "  print(f\"Точность тестов: {round(accuracy * 100, 2)}%\")\n",
        "\n",
        "  return history"
      ],
      "metadata": {
        "id": "M6Ae2YvwH86F"
      },
      "execution_count": null,
      "outputs": []
    },
    {
      "cell_type": "code",
      "source": [
        "# Запуск\n",
        "run_experiment()"
      ],
      "metadata": {
        "colab": {
          "base_uri": "https://localhost:8080/"
        },
        "id": "e6e9ltq-KAFs",
        "outputId": "4564ad2f-2af9-422b-c583-2ea225d26d9f"
      },
      "execution_count": null,
      "outputs": [
        {
          "output_type": "stream",
          "name": "stdout",
          "text": [
            "Epoch 1/20\n",
            "120/120 [==============================] - ETA: 0s - loss: 1.2896 - accuracy: 0.6101 INFO:tensorflow:Assets written to: /content/drive/MyDrive/NN_models/CNN_model/assets\n",
            "120/120 [==============================] - 1414s 11s/step - loss: 1.2896 - accuracy: 0.6101\n",
            "Epoch 2/20\n",
            "120/120 [==============================] - ETA: 0s - loss: 0.6219 - accuracy: 0.6523INFO:tensorflow:Assets written to: /content/drive/MyDrive/NN_models/CNN_model/assets\n",
            "120/120 [==============================] - 546s 4s/step - loss: 0.6219 - accuracy: 0.6523\n",
            "Epoch 3/20\n",
            "120/120 [==============================] - ETA: 0s - loss: 0.6032 - accuracy: 0.6688INFO:tensorflow:Assets written to: /content/drive/MyDrive/NN_models/CNN_model/assets\n",
            "120/120 [==============================] - 537s 4s/step - loss: 0.6032 - accuracy: 0.6688\n",
            "Epoch 4/20\n",
            "120/120 [==============================] - 519s 4s/step - loss: 0.6062 - accuracy: 0.6668\n",
            "Epoch 5/20\n",
            "120/120 [==============================] - ETA: 0s - loss: 0.5713 - accuracy: 0.6861INFO:tensorflow:Assets written to: /content/drive/MyDrive/NN_models/CNN_model/assets\n",
            "120/120 [==============================] - 517s 4s/step - loss: 0.5713 - accuracy: 0.6861\n",
            "Epoch 6/20\n",
            "120/120 [==============================] - ETA: 0s - loss: 0.5465 - accuracy: 0.7035INFO:tensorflow:Assets written to: /content/drive/MyDrive/NN_models/CNN_model/assets\n",
            "120/120 [==============================] - 514s 4s/step - loss: 0.5465 - accuracy: 0.7035\n",
            "Epoch 7/20\n",
            "120/120 [==============================] - ETA: 0s - loss: 0.5334 - accuracy: 0.7121INFO:tensorflow:Assets written to: /content/drive/MyDrive/NN_models/CNN_model/assets\n",
            "120/120 [==============================] - 512s 4s/step - loss: 0.5334 - accuracy: 0.7121\n",
            "Epoch 8/20\n",
            "120/120 [==============================] - 516s 4s/step - loss: 0.5337 - accuracy: 0.7102\n",
            "Epoch 9/20\n",
            "120/120 [==============================] - ETA: 0s - loss: 0.5206 - accuracy: 0.7185INFO:tensorflow:Assets written to: /content/drive/MyDrive/NN_models/CNN_model/assets\n",
            "120/120 [==============================] - 515s 4s/step - loss: 0.5206 - accuracy: 0.7185\n",
            "Epoch 10/20\n",
            "120/120 [==============================] - ETA: 0s - loss: 0.5047 - accuracy: 0.7303INFO:tensorflow:Assets written to: /content/drive/MyDrive/NN_models/CNN_model/assets\n",
            "120/120 [==============================] - 514s 4s/step - loss: 0.5047 - accuracy: 0.7303\n",
            "Epoch 11/20\n",
            "120/120 [==============================] - ETA: 0s - loss: 0.4994 - accuracy: 0.7315INFO:tensorflow:Assets written to: /content/drive/MyDrive/NN_models/CNN_model/assets\n",
            "120/120 [==============================] - 515s 4s/step - loss: 0.4994 - accuracy: 0.7315\n",
            "Epoch 12/20\n",
            "120/120 [==============================] - ETA: 0s - loss: 0.4883 - accuracy: 0.7381INFO:tensorflow:Assets written to: /content/drive/MyDrive/NN_models/CNN_model/assets\n",
            "120/120 [==============================] - 520s 4s/step - loss: 0.4883 - accuracy: 0.7381\n",
            "Epoch 13/20\n",
            "120/120 [==============================] - ETA: 0s - loss: 0.4750 - accuracy: 0.7480INFO:tensorflow:Assets written to: /content/drive/MyDrive/NN_models/CNN_model/assets\n",
            "120/120 [==============================] - 521s 4s/step - loss: 0.4750 - accuracy: 0.7480\n",
            "Epoch 14/20\n",
            "120/120 [==============================] - ETA: 0s - loss: 0.4582 - accuracy: 0.7561INFO:tensorflow:Assets written to: /content/drive/MyDrive/NN_models/CNN_model/assets\n",
            "120/120 [==============================] - 570s 5s/step - loss: 0.4582 - accuracy: 0.7561\n",
            "Epoch 15/20\n",
            "120/120 [==============================] - 560s 5s/step - loss: 0.4644 - accuracy: 0.7549\n",
            "Epoch 16/20\n",
            "120/120 [==============================] - ETA: 0s - loss: 0.4472 - accuracy: 0.7648INFO:tensorflow:Assets written to: /content/drive/MyDrive/NN_models/CNN_model/assets\n",
            "120/120 [==============================] - 520s 4s/step - loss: 0.4472 - accuracy: 0.7648\n",
            "Epoch 17/20\n",
            "120/120 [==============================] - ETA: 0s - loss: 0.4345 - accuracy: 0.7702INFO:tensorflow:Assets written to: /content/drive/MyDrive/NN_models/CNN_model/assets\n",
            "120/120 [==============================] - 564s 5s/step - loss: 0.4345 - accuracy: 0.7702\n",
            "Epoch 18/20\n",
            "120/120 [==============================] - ETA: 0s - loss: 0.4207 - accuracy: 0.7778INFO:tensorflow:Assets written to: /content/drive/MyDrive/NN_models/CNN_model/assets\n",
            "120/120 [==============================] - 511s 4s/step - loss: 0.4207 - accuracy: 0.7778\n",
            "Epoch 19/20\n",
            "120/120 [==============================] - ETA: 0s - loss: 0.4102 - accuracy: 0.7845INFO:tensorflow:Assets written to: /content/drive/MyDrive/NN_models/CNN_model/assets\n",
            "120/120 [==============================] - 519s 4s/step - loss: 0.4102 - accuracy: 0.7845\n",
            "Epoch 20/20\n",
            "120/120 [==============================] - ETA: 0s - loss: 0.4143 - accuracy: 0.7857INFO:tensorflow:Assets written to: /content/drive/MyDrive/NN_models/CNN_model/assets\n",
            "120/120 [==============================] - 531s 4s/step - loss: 0.4143 - accuracy: 0.7857\n",
            "52/52 [==============================] - 574s 9s/step - loss: 0.5506 - accuracy: 0.7350\n",
            "Точность тестов: 73.5%\n"
          ]
        },
        {
          "output_type": "execute_result",
          "data": {
            "text/plain": [
              "<keras.callbacks.History at 0x7f2529d9af90>"
            ]
          },
          "metadata": {},
          "execution_count": 8
        }
      ]
    }
  ]
}